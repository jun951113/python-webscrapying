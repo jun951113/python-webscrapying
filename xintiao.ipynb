{
 "cells": [
  {
   "cell_type": "code",
   "execution_count": 70,
   "metadata": {},
   "outputs": [],
   "source": [
    "#import nessary library\n",
    "from selenium import webdriver\n",
    "import time\n",
    "import sys"
   ]
  },
  {
   "cell_type": "code",
   "execution_count": 71,
   "metadata": {},
   "outputs": [],
   "source": [
    "FILE_PATH_FOLDER = 'test'\n",
    "#which page you want to scrapy\n",
    "search_query = 'https://m.v.qq.com/doki/support/index.html?id=60011&isDarkMode=0&uiType=REGULAR&url_from=share&second_share=0&share_from=copy'\n",
    "#define where is the webdrive chrome is\n",
    "driver = webdriver.Chrome(executable_path=r'C:/Users/Ace/Downloads/chromedriver_win32/chromedriver.exe')\n",
    "#define a empty list to save element you scrapy\n",
    "info = []"
   ]
  },
  {
   "cell_type": "code",
   "execution_count": 72,
   "metadata": {},
   "outputs": [
    {
     "name": "stdout",
     "output_type": "stream",
     "text": [
      "2021-03-26 07:08:06\n"
     ]
    }
   ],
   "source": [
    "#setup timezone\n",
    "from dateutil import tz\n",
    "from datetime import datetime\n",
    "\n",
    "# UTC Zone\n",
    "from_zone = tz.gettz('UTC')\n",
    "# China Zone\n",
    "to_zone = tz.gettz('Asia/Shanghai')\n",
    "\n",
    "utc = datetime.utcnow()\n",
    "\n",
    "# Tell the datetime object that it's in UTC time zone\n",
    "utc = utc.replace(tzinfo=from_zone)\n",
    "\n",
    "# Convert time zone\n",
    "local = utc.astimezone(to_zone)\n",
    "print (datetime.strftime(local, \"%Y-%m-%d %H:%M:%S\"))"
   ]
  },
  {
   "cell_type": "code",
   "execution_count": 73,
   "metadata": {},
   "outputs": [],
   "source": [
    "#start scrapying\n",
    "driver.get(search_query)\n",
    "\n",
    "#scrapy specific element you want to scrapy\n",
    "xueyuaninfo = driver.find_elements_by_xpath(\"//div[@class='list_item']\")"
   ]
  },
  {
   "cell_type": "code",
   "execution_count": 74,
   "metadata": {},
   "outputs": [],
   "source": [
    "for each_info in xueyuaninfo:\n",
    "    \n",
    "    #time\n",
    "    time = datetime.strftime(local, \"%Y-%m-%d %H:%M:%S\")\n",
    "    \n",
    "    #name\n",
    "    name = each_info.find_elements_by_xpath(\".//span[@class='tit']\")[0]\n",
    "    \n",
    "    #value\n",
    "    xintiao = each_info.find_elements_by_xpath(\".//span[@class='desc']\")[0]\n",
    "    \n",
    "    #save them together\n",
    "    all_info = [time, name.text, xintiao.text]\n",
    "    \n",
    "    #save to one list\n",
    "    info.append(all_info)"
   ]
  },
  {
   "cell_type": "code",
   "execution_count": 75,
   "metadata": {},
   "outputs": [
    {
     "data": {
      "text/plain": [
       "[['2021-03-26 07:08:06', 'TOP1刘宇', '1018364心跳数'],\n",
       " ['2021-03-26 07:08:06', '2米卡', '398835心跳数'],\n",
       " ['2021-03-26 07:08:06', '3力丸', '391053心跳数'],\n",
       " ['2021-03-26 07:08:06', '4赞多', '369215心跳数'],\n",
       " ['2021-03-26 07:08:06', '5胡烨韬', '185084心跳数'],\n",
       " ['2021-03-26 07:08:06', '6何屹繁', '161030心跳数'],\n",
       " ['2021-03-26 07:08:06', '7周柯宇', '125938心跳数'],\n",
       " ['2021-03-26 07:08:06', '8林墨', '116917心跳数'],\n",
       " ['2021-03-26 07:08:06', '9庆怜', '110999心跳数'],\n",
       " ['2021-03-26 07:08:06', '10井汲大翔', '108906心跳数'],\n",
       " ['2021-03-26 07:08:06', '11俞更寅', '106786心跳数'],\n",
       " ['2021-03-26 07:08:06', '12高卿尘', '77732心跳数']]"
      ]
     },
     "execution_count": 75,
     "metadata": {},
     "output_type": "execute_result"
    }
   ],
   "source": [
    "info"
   ]
  },
  {
   "cell_type": "code",
   "execution_count": 76,
   "metadata": {},
   "outputs": [],
   "source": [
    "#transfer. save to dataset. save to excel file\n",
    "import pandas as pd\n",
    "xueyuaninfo = pd.DataFrame(info)\n",
    "xueyuaninfo.columns = ['time', 'name', 'xintiao']\n",
    "\n",
    "filename = 'xintiao.xlsx'\n",
    "xueyuaninfo.to_excel(filename, index=False, encoding=\"utf-8\")"
   ]
  },
  {
   "cell_type": "code",
   "execution_count": null,
   "metadata": {},
   "outputs": [],
   "source": []
  }
 ],
 "metadata": {
  "kernelspec": {
   "display_name": "Python 3",
   "language": "python",
   "name": "python3"
  },
  "language_info": {
   "codemirror_mode": {
    "name": "ipython",
    "version": 3
   },
   "file_extension": ".py",
   "mimetype": "text/x-python",
   "name": "python",
   "nbconvert_exporter": "python",
   "pygments_lexer": "ipython3",
   "version": "3.8.5"
  }
 },
 "nbformat": 4,
 "nbformat_minor": 4
}
