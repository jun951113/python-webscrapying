{
 "cells": [
  {
   "cell_type": "code",
   "execution_count": 1,
   "metadata": {},
   "outputs": [],
   "source": [
    "#import nessary library\n",
    "from selenium import webdriver\n",
    "import time\n",
    "import sys"
   ]
  },
  {
   "cell_type": "code",
   "execution_count": 2,
   "metadata": {},
   "outputs": [
    {
     "name": "stderr",
     "output_type": "stream",
     "text": [
      "[WDM] - ====== WebDriver manager ======\n",
      "[WDM] - Current google-chrome version is 96.0.4664\n",
      "[WDM] - Get LATEST driver version for 96.0.4664\n",
      "[WDM] - Driver [C:\\Users\\Ace\\.wdm\\drivers\\chromedriver\\win32\\96.0.4664.45\\chromedriver.exe] found in cache\n"
     ]
    },
    {
     "name": "stdout",
     "output_type": "stream",
     "text": [
      "\n",
      "\n"
     ]
    }
   ],
   "source": [
    "from webdriver_manager.chrome import ChromeDriverManager\n",
    "\n",
    "driver = webdriver.Chrome(ChromeDriverManager().install())"
   ]
  },
  {
   "cell_type": "code",
   "execution_count": 3,
   "metadata": {},
   "outputs": [
    {
     "name": "stderr",
     "output_type": "stream",
     "text": [
      "<ipython-input-3-67dfb77ec460>:6: DeprecationWarning: use options instead of chrome_options\n",
      "  driver = webdriver.Chrome(executable_path=r'C:/Users/Ace/Downloads/chromedriver_win32/chromedriver.exe',chrome_options=chrome_options)\n"
     ]
    }
   ],
   "source": [
    "FILE_PATH_FOLDER = 'test'\n",
    "#which page you want to scrapy\n",
    "chrome_options = webdriver.ChromeOptions()\n",
    "chrome_options.add_argument('--no-sandbox')\n",
    "search_query = 'https://www.douyin.com/user/MS4wLjABAAAAx-CXTMl0Sc-khpSN5KCA7BepcXcpcJUHwE7feMsPCE8?enter_from=search_result&enter_method=search_result&extra_params=%7B%22search_params%22%3A%7B%22search_type%22%3A%22user%22%2C%22search_id%22%3A%22202111300053550102121380182A346AC5%22%2C%22search_keyword%22%3A%22into1%E5%88%98%E5%AE%87%22%2C%22search_result_id%22%3A%2258325035431%22%7D%7D'\n",
    "driver = webdriver.Chrome(executable_path=r'C:/Users/Ace/Downloads/chromedriver_win32/chromedriver.exe',chrome_options=chrome_options)\n",
    "info = []"
   ]
  },
  {
   "cell_type": "code",
   "execution_count": 4,
   "metadata": {},
   "outputs": [
    {
     "name": "stdout",
     "output_type": "stream",
     "text": [
      "2021-11-30 02:52:07\n"
     ]
    }
   ],
   "source": [
    "#setup timezone\n",
    "from dateutil import tz\n",
    "from datetime import datetime\n",
    "\n",
    "# UTC Zone\n",
    "from_zone = tz.gettz('UTC')\n",
    "# China Zone\n",
    "to_zone = tz.gettz('Asia/Shanghai')\n",
    "\n",
    "utc = datetime.utcnow()\n",
    "\n",
    "# Tell the datetime object that it's in UTC time zone\n",
    "utc = utc.replace(tzinfo=from_zone)\n",
    "\n",
    "# Convert time zone\n",
    "local = utc.astimezone(to_zone)\n",
    "print (datetime.strftime(local, \"%Y-%m-%d %H:%M:%S\"))"
   ]
  },
  {
   "cell_type": "code",
   "execution_count": 5,
   "metadata": {},
   "outputs": [],
   "source": [
    "#start scrapying\n",
    "driver.get(search_query)\n",
    "\n",
    "time.sleep(2)  # Allow 2 seconds for the web page to open\n",
    "scroll_pause_time = 1 # You can set your own pause time. My laptop is a bit slow so I use 1 sec\n",
    "screen_height = driver.execute_script(\"return window.screen.height;\")   # get the screen height of the web\n",
    "i = 1\n",
    "\n",
    "while True:\n",
    "    # scroll one screen height each time\n",
    "    driver.execute_script(\"window.scrollTo(0, {screen_height}*{i});\".format(screen_height=screen_height, i=i))  \n",
    "    i += 1\n",
    "    time.sleep(scroll_pause_time)\n",
    "    # update scroll height each time after scrolled, as the scroll height can change after we scrolled the page\n",
    "    scroll_height = driver.execute_script(\"return document.body.scrollHeight;\")  \n",
    "    # Break the loop when the height we need to scroll to is larger than the total scroll height\n",
    "    if (screen_height) * i > scroll_height:\n",
    "        break "
   ]
  },
  {
   "cell_type": "code",
   "execution_count": 6,
   "metadata": {},
   "outputs": [],
   "source": [
    "#scrapy specific element you want to scrapy\n",
    "xueyuaninfo = driver.find_elements_by_xpath(\"//li[@class='_4P45SWS7']\")"
   ]
  },
  {
   "cell_type": "code",
   "execution_count": 7,
   "metadata": {},
   "outputs": [],
   "source": [
    "for each_info in xueyuaninfo:\n",
    "    \n",
    "    #time\n",
    "#     time = datetime.strftime(local, \"%Y-%m-%d %H:%M:%S\")\n",
    "    \n",
    "    #name\n",
    "#     name = each_info.find_elements_by_xpath(\".//div[@class='_806W6IFi l6Co+k+5')]/img\").get_attribute(\"alt\")[0]\n",
    "   \n",
    "    images  =each_info.find_elements_by_tag_name('img')\n",
    "    for name in images:\n",
    "        name = name.get_attribute('alt')\n",
    "    \n",
    "    #value\n",
    "    xintiao = each_info.find_elements_by_xpath(\".//span[@class='THdTAD-K']/span\")[0]\n",
    "    \n",
    "    #save them together\n",
    "    all_info = [name, xintiao.text]\n",
    "    \n",
    "    #save to one list\n",
    "    info.append(all_info)"
   ]
  },
  {
   "cell_type": "code",
   "execution_count": 8,
   "metadata": {
    "scrolled": true
   },
   "outputs": [
    {
     "data": {
      "text/plain": [
       "[['INTO1–刘宇：你在梦里有没有梦见过一条大鱼🌊', '91.8w'],\n",
       " ['INTO1–刘宇：为你而跳的舞#2020国风大典 #汉服 #舞蹈 #刘宇', '85.9w'],\n",
       " ['INTO1–刘宇：快暂停 不然腿要断了！#抖音万物节', '272.4w'],\n",
       " ['INTO1–刘宇：好久不见的变装#望远镜变装', '8.0w'],\n",
       " ['INTO1–刘宇：吼！', '15.3w'],\n",
       " ['INTO1–刘宇：嘿！', '17.7w'],\n",
       " ['INTO1–刘宇：花雪随风不厌看，更多还肯失林峦', '15.5w'],\n",
       " ['INTO1–刘宇：#霸王别姬 #日常练舞', '46.9w'],\n",
       " ['INTO1–刘宇：11月10日根源洁净实验课正式开课，锁定京东碧浪直播间，和我一起做实验吧！@碧浪 @宝洁家庭清洁旗舰店', '5.7w'],\n",
       " ['INTO1–刘宇：#梦寐以求定格照 🐷✖️3', '15.8w'],\n",
       " ['INTO1–刘宇：快和我一起完成MISTINE蓝盾粉底液#泰美不脱妆 全民任务挑战吧，别忘了关注并艾特@Mistine 蜜丝婷  哦~',\n",
       "  '7.3w'],\n",
       " ['INTO1–刘宇：INTO1-刘宇半岁了#飘雪变装', '15.8w'],\n",
       " ['INTO1–刘宇：好开心！@INTO1-周柯宇 #这才是猛男该跳的舞蹈', '52.8w'],\n",
       " ['INTO1–刘宇：#竖屏定格拍照 📷', '18.1w'],\n",
       " ['INTO1–刘宇：假期快乐🍂', '24.7w'],\n",
       " ['INTO1–刘宇：Hi~我也棕意你 #完美日记名片唇釉 #秋冬心动限定', '11.4w'],\n",
       " ['INTO1–刘宇：发现清新元气，感受自然“桉”心，快参与清风植萃系列#元气青春玩出young 全民任务，查收我的小纸条吧。', '30.4w'],\n",
       " ['INTO1–刘宇：@巴黎欧莱雅  向你发起#刘宇方形手势舞挑战，速来get白到发光的秘密吧！', '12.6w'],\n",
       " ['INTO1–刘宇：#随机剪裁挑战 最后一秒有惊喜！', '24.3w'],\n",
       " ['INTO1–刘宇：#随手拍封面  这个也太好玩了吧', '28.4w'],\n",
       " ['INTO1–刘宇：#天猫正当红 ，卸后另一个我吧！7月28日👉🏻天猫，GET我的同款，欧莱雅卸妆油~#毛孔级洗脸正当红', '9.7w'],\n",
       " ['INTO1–刘宇：下雨了🍂', '34.8w'],\n",
       " ['INTO1–刘宇：#Mistine热力代言人刘宇\\xa0我的夏日防晒课堂开讲啦！快来GET我的同款防晒，宇你一起，热力追光', '16.4w'],\n",
       " ['INTO1–刘宇：我为蔡康永老师的@十二扇窗  编了个手势舞#刘宇十二扇窗手势舞', '27.2w'],\n",
       " ['INTO1–刘宇：相同频率的人总会相遇', '17.4w'],\n",
       " ['INTO1–刘宇：Nice to meet you 很高兴遇见你#完美日记名片唇釉', '51.4w'],\n",
       " ['INTO1–刘宇：#清风元气代言人刘宇 快来接住清风Young双色炫彩纸巾，6月16日19:30，“宇”你相约抖音清风官方直播间', '14.7w'],\n",
       " ['INTO1–刘宇：#国风合伙人抓住“彩虹兔”的尾巴🤪 #完颜彩虹兔', '91.9w'],\n",
       " ['INTO1–刘宇：6月2日17:00锁定修丽可天猫直播间，和我一起探索科学护肤「新势力」更多惊喜福利等着你！#修丽可色修精华密雾', '24.3w'],\n",
       " ['INTO1–刘宇：带上行李箱和即将爆发的小宇宙，准备出发！#创4学员上岛打包vlog', '18.5w'],\n",
       " ['INTO1–刘宇：不会吧不会吧 不会还有人没有给你拍#表情包锁屏 吧？', '34.0w'],\n",
       " ['INTO1–刘宇：下次见面就是明年了？有什么想对我说的吗？#怼脸拍 #单眼皮', '23.5w'],\n",
       " ['INTO1–刘宇：好像有点那味了？', '29.5w'],\n",
       " ['INTO1–刘宇：草率的人一般都划走了', '31.9w'],\n",
       " ['INTO1–刘宇：我们都是龙的传人#字正腔圆', '20.1w'],\n",
       " ['INTO1–刘宇：这服装还不还原？#古典舞 #漫画古典舞', '40.0w'],\n",
       " ['INTO1–刘宇：我为什么没有大爷丝滑啊？#无缝衔接 #无缝合拍 #无缝转场挑战', '24.0w'],\n",
       " ['INTO1–刘宇：满怀希望就会所向披靡#变装', '26.0w'],\n",
       " ['INTO1–刘宇：#酷飒卡点舞  这个卡点 你们满意不？🤔', '27.5w'],\n",
       " ['INTO1–刘宇：#执迷不悟  你们猜猜马是怎么变颜色的呢？🐎', '40.5w'],\n",
       " ['INTO1–刘宇：#国风合伙人 #国风变装上电影11城22影院我来啦✌🏻', '27.7w'],\n",
       " ['INTO1–刘宇：太魔性了 我已经循环了一上午了 忍不住跳起来🤦🏻#lisa螃蟹舞 #lisa #螃蟹舞', '29.3w'],\n",
       " ['INTO1–刘宇：你看这是帅哥么？不是我删了🙋🏻\\u200d♂️', '29.1w'],\n",
       " ['INTO1–刘宇：#你的三屏女友 在哪里🧐？', '71.2w'],\n",
       " ['INTO1–刘宇：#上海时装周 靓不靓？#走秀', '63.0w'],\n",
       " ['INTO1–刘宇：我本见万物波澜不惊，唯独见你方寸大乱#汉服 #2020国风大典', '64.4w'],\n",
       " ['INTO1–刘宇：王子的礼仪 只献给我的公主💎#我的王子殿下', '146.2w'],\n",
       " ['INTO1–刘宇：听说大家还想看我跳这种#舞蹈 #takitaki舞', '25.7w'],\n",
       " ['INTO1–刘宇：再一次为男生拿下一局#起腰', '62.9w'],\n",
       " ['INTO1–刘宇：#隔岸扭胯舞 这个视频不宜倒放🤫', '258.6w'],\n",
       " ['INTO1–刘宇：身着红衣 迎你回家', '107.5w'],\n",
       " ['INTO1–刘宇：今日被茧深缚 来日破茧成蝶🦋#变装', '19.6w'],\n",
       " ['INTO1–刘宇：腰只能往后弯，真气人😤#下腰', '33.0w'],\n",
       " ['INTO1–刘宇：“二班那个小孩好弱啊”“不是吧”你是没见过他跳舞的样子🤔', '29.9w'],\n",
       " ['INTO1–刘宇：你以为的maria？？？🤷🏻\\u200d♂️#maria', '25.9w'],\n",
       " ['INTO1–刘宇：眼睛一闭一睁，就翻过去了🤨#空中一字马', '123.5w'],\n",
       " ['INTO1–刘宇：#隔岸 就这般望着你👀', '31.1w'],\n",
       " ['INTO1–刘宇：我说,顾衣,你不愧为一戏子,真是无情,难道忘了那年你我在···哼#变装#戏曲', '21.3w'],\n",
       " ['INTO1–刘宇：腿有点抖#一字马', '27.5w'],\n",
       " ['INTO1–刘宇：#苹果原相机  我领带系的好么？😬', '6.0w'],\n",
       " ['INTO1–刘宇：听说有人想挑战我系列#挑战', '64.2w'],\n",
       " ['INTO1–刘宇：￼这条标题由你们来取❄️#刘宇盖娅传说走秀', '17.0w'],\n",
       " ['INTO1–刘宇：唱尽霸王虞姬千年泪 ——小楼依旧当年貌，世间已无程蝶衣', '65.8w'],\n",
       " ['INTO1–刘宇：谁说做不了的？#舞蹈起腰', '277.4w'],\n",
       " ['INTO1–刘宇：是穿练功服的我不配进教室么？', '36.9w'],\n",
       " ['INTO1–刘宇：春天到了 一切都会好起来的🕊', '29.7w'],\n",
       " ['INTO1–刘宇：看出来我的专业了么？', '109.0w'],\n",
       " ['INTO1–刘宇：今日教妈妈的舞蹈💕#舞蹈', '151.4w'],\n",
       " ['INTO1–刘宇：hey 姐姐来玩扑克吗🎴', '16.7w'],\n",
       " ['INTO1–刘宇：我真的很不容易！#自己剪头发', '54.8w'],\n",
       " ['INTO1–刘宇：来了来了#全民健身 💕', '86.9w'],\n",
       " ['INTO1–刘宇：我已经开始准备自己剪头发了💇\\u200d♂️#流星花园', '172.2w'],\n",
       " ['INTO1–刘宇：毫无家庭存在感的第二天！', '59.0w'],\n",
       " ['INTO1–刘宇：我该用什么保住我的家庭地位😭', '72.3w'],\n",
       " ['INTO1–刘宇：#丑脸大头恰恰恰 这特效太好玩了哈哈哈哈哈！', '40.0w'],\n",
       " ['INTO1–刘宇：谁家还有衣柜让我钻一下？🌑', '25.5w'],\n",
       " ['INTO1–刘宇：据说你父亲与你的年龄差 便是惊艳你一生人出现的年纪❤️', '50.7w'],\n",
       " ['INTO1–刘宇：听说北京都下雪了 在横店的我好羡慕😭 #草原最美的花', '39.8w'],\n",
       " ['INTO1–刘宇：你在等谁靠岸 又在为谁而战？', '11.2w'],\n",
       " ['INTO1–刘宇：我的首张个人单曲 📀名字你们来取🤗', '11.6w'],\n",
       " ['INTO1–刘宇：胡夏哥哥的《水墨》 你们准备好了么🥳', '19.4w'],\n",
       " ['INTO1–刘宇：我是控腿 你是腿控么？', '38.2w'],\n",
       " ['INTO1–刘宇：爱听南山南的你会有什么样的故事呢？🍂', '217.2w'],\n",
       " ['INTO1–刘宇：重新认识一下 我叫刘宇 2000年8.24 安徽人❤️', '271.4w'],\n",
       " ['INTO1–刘宇：说一个你最喜欢的古装演员吧！', '63.3w'],\n",
       " ['INTO1–刘宇：换了种风格跳舞，大家还喜欢吗？❤️', '44.7w'],\n",
       " ['INTO1–刘宇：为啥我用这个特效像大头儿子那个特效？ #解锁人脸运镜术', '53.8w'],\n",
       " ['INTO1–刘宇：和 @京剧演员王梦婷 老师一起学习京剧中的眼神功力 #京剧 ', '9.5w'],\n",
       " ['INTO1–刘宇：什么是快乐？ 就是掩饰自己的悲伤对每个人微笑😊', '55.9w'],\n",
       " ['INTO1–刘宇：你喜欢的样子我都有！记得双击 么么哒！', '27.0w'],\n",
       " ['INTO1–刘宇：过了今晚就19岁啦～', '132.5w'],\n",
       " ['INTO1–刘宇：这嘴巴咋这么红？（23号晚上九点首次直播哦！） #暗黑兔子魔法秀', '89.2w'],\n",
       " ['INTO1–刘宇：猜猜我扮演的谁呀？（提示：羽扇纶巾）', '26.8w'],\n",
       " ['INTO1–刘宇：#你的清风少年  天青色等烟雨，而我…', '33.6w'],\n",
       " ['INTO1–刘宇：水断残桥有似无 还有谁能替代？', '21.7w'],\n",
       " ['INTO1–刘宇：第一次扮上！ 传统艺术真的超级美！❤️', '36.7w'],\n",
       " ['INTO1–刘宇：你喜欢哪种妹妹？', '206.9w'],\n",
       " ['INTO1–刘宇：究竟干了什么事？老实交代！', '88.5w'],\n",
       " ['INTO1–刘宇：听歌听歌了！@贾昱', '4.7w'],\n",
       " ['INTO1–刘宇：这戏腔怎能如此耳熟？🍂', '49.5w'],\n",
       " ['INTO1–刘宇：这是一首送给母亲的小诗 送给仍在奋斗的我们 送给孤独想家的我们❤️', '16.9w'],\n",
       " ['INTO1–刘宇：有幸和仰慕已久的@古丽米娜 老师同台演出！开心到转圈圈❤️#舞蹈', '24.0w'],\n",
       " ['INTO1–刘宇：有人说五百次的回眸 才换得一次的擦肩而过 你愿意么', '70.5w'],\n",
       " ['INTO1–刘宇：今天给大家来个舞蹈集锦🌟#舞蹈', '30.6w'],\n",
       " ['INTO1–刘宇：海天一色 出水遇龙❄️', '51.6w'],\n",
       " ['INTO1–刘宇：今日舞蹈分享！🌟', '26.0w'],\n",
       " ['INTO1–刘宇：按照自己喜欢的感觉做了一版 大家感觉怎么样', '40.0w'],\n",
       " ['INTO1–刘宇：在线询问 中二少年的拯救办法！ #戴上耳机世界都是我的', '81.2w'],\n",
       " ['INTO1–刘宇：该怎么去形容一个正在跳舞的男生呢？', '24.4w'],\n",
       " ['INTO1–刘宇：女生叫美人卧 男生应该叫什么呢？', '101.0w'],\n",
       " ['INTO1–刘宇：身骑白马 ☁️', '142.0w'],\n",
       " ['INTO1–刘宇：#我的青春宣言❤️追梦青年舞起来 青晚现场，等你来看！（猜猜哪一套是演出的服装）@共青团中央', '50.6w'],\n",
       " ['INTO1–刘宇：伞是怎么飞起来的呢？🧐', '81.6w'],\n",
       " ['INTO1–刘宇：不看到最后都不知道还有彩蛋🥚！#武侠', '75.7w'],\n",
       " ['INTO1–刘宇：小主 我来接您了', '161.0w'],\n",
       " ['INTO1–刘宇：陪你看一场塑料花雨！', '121.8w'],\n",
       " ['INTO1–刘宇：发现一个好看的贴纸！#穿越古画遇见你 #秀出中原古韵风', '93.2w'],\n",
       " ['INTO1–刘宇：拍的时候被小朋友问：叔叔 你手上拿蚊帐干什么呀 🙄', '169.6w'],\n",
       " ['INTO1–刘宇：仅好看的人可见#原创国风计划', '128.4w'],\n",
       " ['INTO1–刘宇：仅喜欢的人可见🤓', '189.8w'],\n",
       " ['INTO1–刘宇：待我破茧成蝶那日 你就来找我可好？ 🦋', '141.3w'],\n",
       " ['INTO1–刘宇：本命特效第二弹——红蝴dei 🦋', '56.3w'],\n",
       " ['INTO1–刘宇：站内本命特效，请和我一起念：fā fú déi🦋 #原来你有两副面孔', '209.7w'],\n",
       " ['INTO1–刘宇：听说这个音乐和我的梨花颂比较配哦🍁#原创国风计划', '37.1w'],\n",
       " ['INTO1–刘宇：#英气十足似少年 看到大家都这么喜欢安徽的黄梅戏真的很开心❤️', '107.2w'],\n",
       " ['INTO1–刘宇：这是一条剧透视频', '31.6w'],\n",
       " ['INTO1–刘宇：此刻 我是你的——', '20.6w'],\n",
       " ['INTO1–刘宇：🍃 好的音乐直达心底', '19.9w'],\n",
       " ['INTO1–刘宇：光年之外 你会想起谁 🍃', '22.4w'],\n",
       " ['INTO1–刘宇：交作业！你们还想看谁跳？😆#哦那那那舞', '52.5w'],\n",
       " ['INTO1–刘宇：18岁生日 感谢你还在陪伴❤️（下午两点到四点生日会现场给大家直播🤗）#谁说京剧不抖音', '28.6w'],\n",
       " ['INTO1–刘宇：嘿哈 看我变个脸 哇呀呀呀呀呀！', '56.8w'],\n",
       " ['INTO1–刘宇：美好青春！感恩母校！', '52.4w'],\n",
       " ['INTO1–刘宇：看见音乐-一颗小葱-狂浪生', '36.5w'],\n",
       " ['INTO1–刘宇：你那下雪了么', '14.6w'],\n",
       " ['INTO1–刘宇：这腿能不能收割你们的小心心', '49.1w'],\n",
       " ['INTO1–刘宇：芳华练功房版哈哈哈 已中毒', '10.4w'],\n",
       " ['INTO1–刘宇：终于抽出时间来录了😝😝', '11.3w'],\n",
       " ['INTO1–刘宇：来控个假腿', '9.0w'],\n",
       " ['INTO1–刘宇：安和桥2@smile @小灬无奈 @睡不醒 @西瓜', '8.2w']]"
      ]
     },
     "execution_count": 8,
     "metadata": {},
     "output_type": "execute_result"
    }
   ],
   "source": [
    "info"
   ]
  },
  {
   "cell_type": "code",
   "execution_count": 9,
   "metadata": {},
   "outputs": [],
   "source": [
    "#transfer. save to dataset. save to excel file\n",
    "import pandas as pd\n",
    "xueyuaninfo = pd.DataFrame(info)\n",
    "xueyuaninfo.columns = ['name', 'xintiao']\n",
    "\n",
    "filename = 'dy.xlsx'\n",
    "xueyuaninfo.to_excel(filename, index=False, encoding=\"utf-8\")"
   ]
  },
  {
   "cell_type": "code",
   "execution_count": null,
   "metadata": {},
   "outputs": [],
   "source": []
  }
 ],
 "metadata": {
  "kernelspec": {
   "display_name": "Python 3",
   "language": "python",
   "name": "python3"
  },
  "language_info": {
   "codemirror_mode": {
    "name": "ipython",
    "version": 3
   },
   "file_extension": ".py",
   "mimetype": "text/x-python",
   "name": "python",
   "nbconvert_exporter": "python",
   "pygments_lexer": "ipython3",
   "version": "3.8.5"
  }
 },
 "nbformat": 4,
 "nbformat_minor": 4
}
